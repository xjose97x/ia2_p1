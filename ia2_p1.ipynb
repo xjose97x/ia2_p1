{
 "cells": [
  {
   "cell_type": "markdown",
   "metadata": {},
   "source": [
    "# Inteligencia Artificial 2\n",
    "## P1 Project: Implement a Recommender system using a bipartite network projection\n",
    "### Autores: Miguel Brito, Diana Cuenca, José Escudero, Danny Huacon, Steveen Terán"
   ]
  },
  {
   "cell_type": "markdown",
   "metadata": {},
   "source": [
    "## Importar y analizar datos\n",
    "1. Importar librerías"
   ]
  },
  {
   "cell_type": "code",
   "execution_count": null,
   "metadata": {},
   "outputs": [],
   "source": [
    "import numpy as np\n",
    "import pandas as pd\n",
    "import os\n",
    "from IPython.core.interactiveshell import InteractiveShell\n",
    "InteractiveShell.ast_node_interactivity = \"all\"\n",
    "import math\n",
    "import json\n",
    "import time\n",
    "import matplotlib.pyplot as plt\n",
    "import seaborn as sns\n",
    "from sklearn.metrics.pairwise import cosine_similarity\n",
    "from sklearn.model_selection import train_test_split\n",
    "from sklearn.neighbors import NearestNeighbors\n",
    "import joblib\n",
    "import scipy.sparse\n",
    "from scipy.sparse import csr_matrix\n",
    "from scipy.sparse.linalg import svds\n"
   ]
  },
  {
   "cell_type": "markdown",
   "metadata": {},
   "source": [
    "2. Importar datos"
   ]
  },
  {
   "cell_type": "code",
   "execution_count": null,
   "metadata": {},
   "outputs": [],
   "source": [
    "electronics_data = pd.read_csv(\"./ratings_electronics.csv\", names=['userId', 'productId', 'Rating', 'timestamp'])\n",
    "electronics_data.drop(['timestamp'], axis=1,inplace=True)\n",
    "electronics_data.head()\n"
   ]
  },
  {
   "cell_type": "markdown",
   "metadata": {},
   "source": [
    "3. Analizar rango de ratings y revisar integridad de datos"
   ]
  },
  {
   "cell_type": "code",
   "execution_count": null,
   "metadata": {},
   "outputs": [],
   "source": [
    "#Find the minimum and maximum ratings\n",
    "print('Minimum rating is: %d' %(electronics_data.Rating.min()))\n",
    "print('Maximum rating is: %d' %(electronics_data.Rating.max()))\n",
    "print(\"=====================================================================================================\")\n",
    "print('Number of missing values across columns: \\n',electronics_data.isnull().sum())\n"
   ]
  },
  {
   "cell_type": "markdown",
   "metadata": {},
   "source": [
    "4. Graficar distribucion de ratings"
   ]
  },
  {
   "cell_type": "code",
   "execution_count": null,
   "metadata": {},
   "outputs": [],
   "source": [
    "# Check the distribution of the rating\n",
    "\n",
    "# create a dictionary in which the key is the rating, and the value is the number of times that rating occurs\n",
    "rating_distribution = electronics_data.groupby(['Rating'])['Rating'].agg(['count'])\n",
    "sns.barplot(x=rating_distribution.index, y=rating_distribution['count'])\n"
   ]
  },
  {
   "cell_type": "markdown",
   "metadata": {},
   "source": [
    "5. Imprimir cantidad de ratings, usuarios unicos y productos unicos"
   ]
  },
  {
   "cell_type": "code",
   "execution_count": null,
   "metadata": {},
   "outputs": [],
   "source": [
    "print(\"Total no of ratings :\",electronics_data.shape[0])\n",
    "print(\"Total No of Users   :\", len(np.unique(electronics_data.userId)))\n",
    "print(\"Total No of products  :\", len(np.unique(electronics_data.productId)))\n"
   ]
  },
  {
   "cell_type": "markdown",
   "metadata": {},
   "source": [
    "## Desarrollo de taller"
   ]
  },
  {
   "cell_type": "markdown",
   "metadata": {},
   "source": [
    "1. Generar red bipartita\n",
    "\n",
    "En versiones anteriores de networkX se hubiera utilizado el metodo `from_pandas_dataframe`.\\\n",
    "Sin embargo, este metodo ha sido deprecado y se recomienda utilizar `from_pandas_edgelist` en su lugar.\n",
    "\n",
    "Fuente: `https://stackoverflow.com/a/49580740`"
   ]
  },
  {
   "cell_type": "code",
   "execution_count": null,
   "metadata": {},
   "outputs": [],
   "source": [
    "import networkx as nx\n",
    "from networkx.algorithms import bipartite\n",
    "from operator import itemgetter\n",
    "\n",
    "# Filtrar las revisiones con 5 estrellas\n",
    "five_star_reviews = electronics_data[electronics_data['Rating'] == 5]\n",
    "\n",
    "# Crear el grafo bipartito\n",
    "B = nx.from_pandas_edgelist(five_star_reviews, 'userId', 'productId', edge_attr=None, create_using=None)\n",
    "\n",
    "# Assign label to nodes\n",
    "unique_user_ids = set(electronics_data['userId'])\n",
    "for node in B.nodes():\n",
    "    if node in unique_user_ids:\n",
    "        B.nodes[node]['bipartite'] = 'users'\n",
    "    else:\n",
    "        B.nodes[node]['bipartite'] = 'products'\n",
    "\n",
    "# Confirmar que es bipartito\n",
    "bipartite.is_bipartite(B)\n"
   ]
  },
  {
   "cell_type": "markdown",
   "metadata": {},
   "source": [
    "2.a Ejemplo de sistema de recomendacion con datos de la red bipartita. \\\n",
    "   En este bloque se selecciona un usuario, y se obtiene los productos revisados por otros usuarios que han revisado los mismos productos que el usuario en cuestión"
   ]
  },
  {
   "cell_type": "code",
   "execution_count": null,
   "metadata": {},
   "outputs": [],
   "source": [
    "from itertools import chain\n",
    "\n",
    "# Obtener un usuario del dataframe\n",
    "user_node = five_star_reviews.iloc[0]['userId']\n",
    "\n",
    "# Obtener los productos que ha revisado este usuario\n",
    "products_reviewed_by_user = B.neighbors(user_node)\n",
    "\n",
    "# Obtener los usuarios que han hecho review de los mismos productos que el usuario en cuestión\n",
    "related_users = list(bipartite.weighted_projected_graph(B, [user_node]))\n",
    "\n",
    "# Obtener los productos que han sido revisados por los usuarios relacionados\n",
    "recommendations = chain.from_iterable([list(B.neighbors(node)) for node in related_users])\n",
    "\n",
    "# Eliminar los productos que ya ha revisado el usuario en cuestión\n",
    "recommendations = set(recommendations) - set(products_reviewed_by_user)\n",
    "\n",
    "recommendations\n"
   ]
  },
  {
   "cell_type": "markdown",
   "metadata": {},
   "source": [
    "2.b Ejemplo de sistema de recomendacion con datos de la red bipartita. \\\n",
    "   En este bloque se ordena los productos obtenidos en el bloque anterior, de acuerdo a la cantidad de usuarios que han revisado el producto, y se selecciona los 10 productos con mayor cantidad de usuarios que lo han revisado"
   ]
  },
  {
   "cell_type": "code",
   "execution_count": null,
   "metadata": {},
   "outputs": [],
   "source": [
    "product_recommendation_counts = [(product, B.degree(product)) for product in recommendations]\n",
    "top_recommended_products = sorted(product_recommendation_counts, key=itemgetter(1), reverse=True)[:10]\n",
    "for product, count in top_recommended_products:\n",
    "    print(f\"Producto: {product}, revisado por: {count} usuarios\")\n"
   ]
  },
  {
   "cell_type": "markdown",
   "metadata": {},
   "source": [
    "3.a Se crea un subconjunto de datos para construir un grafo bipartita para imprimir. \\\n",
    "    En este bloque se arma el grafo con un conjunto de 100 datos."
   ]
  },
  {
   "cell_type": "code",
   "execution_count": null,
   "metadata": {},
   "outputs": [],
   "source": [
    "# Si deseas visualizar una parte del gráfico:\n",
    "subset_data = five_star_reviews.head(100)\n",
    "\n",
    "B_sub = nx.from_pandas_edgelist(subset_data, 'userId', 'productId', edge_attr=None, create_using=None)\n",
    "# Assign label to nodes\n",
    "unique_user_ids = set(electronics_data['userId'])\n",
    "for node in B_sub.nodes():\n",
    "    if node in unique_user_ids:\n",
    "        B_sub.nodes[node]['bipartite'] = 'users'\n",
    "    else:\n",
    "        B_sub.nodes[node]['bipartite'] = 'products'\n",
    "\n",
    "# Confirmar que es bipartito\n",
    "bipartite.is_bipartite(B)\n"
   ]
  },
  {
   "cell_type": "markdown",
   "metadata": {},
   "source": [
    "3.b Se crea un subconjunto de datos para construir un grafo bipartita para imprimir. \\\n",
    "    En este bloque se imprimie el grafo bipartita generado en el bloque anterior."
   ]
  },
  {
   "cell_type": "code",
   "execution_count": null,
   "metadata": {},
   "outputs": [],
   "source": [
    "\n",
    "# Dibujar el grafo\n",
    "pos = nx.bipartite_layout(B_sub, nodes=[n for n, d in B_sub.nodes(data=True) if d['bipartite'] == 'users'])\n",
    "colors = [\"blue\" if d['bipartite'] == 'users' else \"red\" for n, d in B_sub.nodes(data=True)]\n",
    "\n",
    "plt.figure(figsize=(12, 12))\n",
    "nx.draw(B_sub, pos=pos, node_color=colors, with_labels=False, node_size=20)\n",
    "blue_patch = plt.Line2D([0], [0], marker='o', color='w', label='Users', markersize=10, markerfacecolor='blue')\n",
    "red_patch = plt.Line2D([0], [0], marker='o', color='w', label='Products', markersize=10, markerfacecolor='red')\n",
    "plt.legend(handles=[blue_patch, red_patch])\n",
    "plt.title(\"Subset of Bipartite User-Product Network\")\n",
    "plt.show()\n"
   ]
  },
  {
   "cell_type": "markdown",
   "metadata": {},
   "source": [
    "4. Poda de grafo bipartito e impresión del mismo\n",
    "\n",
    "4.a Mostrar usuarios con mas de 250 reviews"
   ]
  },
  {
   "cell_type": "code",
   "execution_count": null,
   "metadata": {},
   "outputs": [],
   "source": [
    "degree_threshold = 250  # por ejemplo, solo conservar nodos con grado > 5\n",
    "users_nodes_to_remove = [node for node, data in B.nodes(data=True) if data['bipartite'] == 'users' and B.degree(node) < degree_threshold]\n",
    "trimmed_B = B.subgraph(B.nodes - set(users_nodes_to_remove))\n",
    "\n",
    "orphan_products_nodes = [node for node, data in trimmed_B.nodes(data=True) if data['bipartite'] == 'products' and trimmed_B.degree(node) == 0]\n",
    "trimmed_B = trimmed_B.subgraph(trimmed_B.nodes - set(orphan_products_nodes))\n",
    "\n",
    "\n",
    "users_count = len([node for node, data in trimmed_B.nodes(data=True) if data['bipartite'] == 'users'])\n",
    "products_count = len([node for node, data in trimmed_B.nodes(data=True) if data['bipartite'] == 'products'])\n",
    "\n",
    "print(f\"El grafo podado tiene {users_count} usuarios y {products_count} productos\")\n",
    "\n",
    "# Dibujar el grafo\n",
    "pos = nx.bipartite_layout(trimmed_B, nodes=[n for n, d in trimmed_B.nodes(data=True) if d['bipartite'] == 'users'])\n",
    "colors = [\"blue\" if d['bipartite'] == 'users' else \"red\" for n, d in trimmed_B.nodes(data=True)]\n",
    "\n",
    "plt.figure(figsize=(12, 12))\n",
    "nx.draw(trimmed_B, pos=pos, node_color=colors, with_labels=False, node_size=20)\n",
    "blue_patch = plt.Line2D([0], [0], marker='o', color='w', label='Usuarios', markersize=10, markerfacecolor='blue')\n",
    "red_patch = plt.Line2D([0], [0], marker='o', color='w', label='Productos', markersize=10, markerfacecolor='red')\n",
    "plt.legend(handles=[blue_patch, red_patch])\n",
    "plt.title(\"Subconjunto del Grafo Bipartito Usuarios-Productos después de la poda\")\n",
    "plt.show()\n"
   ]
  },
  {
   "cell_type": "markdown",
   "metadata": {},
   "source": [
    "4b. Mostrar productos con mas de 10,000 reviews"
   ]
  },
  {
   "cell_type": "code",
   "execution_count": null,
   "metadata": {},
   "outputs": [],
   "source": [
    "degree_threshold = 10000  # por ejemplo, solo conservar nodos con grado > 5\n",
    "product_nodes_to_remove = [node for node, data in B.nodes(data=True) if data['bipartite'] == 'products' and B.degree(node) < degree_threshold]\n",
    "trimmed_B = B.subgraph(B.nodes - set(product_nodes_to_remove))\n",
    "\n",
    "orphan_user_nodes = [node for node, data in trimmed_B.nodes(data=True) if data['bipartite'] == 'users' and trimmed_B.degree(node) == 0]\n",
    "trimmed_B = trimmed_B.subgraph(trimmed_B.nodes - set(orphan_user_nodes))\n",
    "\n",
    "\n",
    "users_count = len([node for node, data in trimmed_B.nodes(data=True) if data['bipartite'] == 'users'])\n",
    "products_count = len([node for node, data in trimmed_B.nodes(data=True) if data['bipartite'] == 'products'])\n",
    "\n",
    "print(f\"El grafo podado tiene {users_count} usuarios y {products_count} productos\")\n",
    "\n",
    "# Dibujar el grafo\n",
    "pos = nx.bipartite_layout(trimmed_B, nodes=[n for n, d in trimmed_B.nodes(data=True) if d['bipartite'] == 'users'])\n",
    "colors = [\"blue\" if d['bipartite'] == 'users' else \"red\" for n, d in trimmed_B.nodes(data=True)]\n",
    "\n",
    "plt.figure(figsize=(12, 12))\n",
    "nx.draw(trimmed_B, pos=pos, node_color=colors, with_labels=False, node_size=20)\n",
    "blue_patch = plt.Line2D([0], [0], marker='o', color='w', label='Usuarios', markersize=10, markerfacecolor='blue')\n",
    "red_patch = plt.Line2D([0], [0], marker='o', color='w', label='Productos', markersize=10, markerfacecolor='red')\n",
    "plt.legend(handles=[blue_patch, red_patch])\n",
    "plt.title(\"Subconjunto del Grafo Bipartito Usuarios-Productos después de la poda\")\n",
    "plt.show()\n"
   ]
  },
  {
   "cell_type": "markdown",
   "metadata": {},
   "source": [
    "## Funcion de recomendaciones e interfaz"
   ]
  },
  {
   "cell_type": "code",
   "execution_count": null,
   "metadata": {},
   "outputs": [],
   "source": [
    "def get_product_recommendation_network(product, limit):\n",
    "  recommended_products = set(bipartite.weighted_projected_graph(B, [product])) - set([product])\n",
    "  recommended_products_with_weight = [(recommended_product, B.degree(recommended_product)) for recommended_product in recommended_products]\n",
    "\n",
    "  top_recommendations = sorted(recommended_products_with_weight, key=lambda x: -x[1])[:limit]\n",
    "\n",
    "  # create a networkX graph, in which the product is the center node, and the recommended products are the neighbors.\n",
    "  # use weighted edges to indicate how many users have bought both products\n",
    "  G = nx.Graph()\n",
    "  G.add_node(product)\n",
    "  for recommended_product, weight in top_recommendations:\n",
    "    G.add_node(recommended_product)\n",
    "    G.add_edge(product, recommended_product, weight=weight)\n",
    "\n",
    "  return G\n",
    "\n"
   ]
  },
  {
   "cell_type": "code",
   "execution_count": null,
   "metadata": {},
   "outputs": [],
   "source": [
    "import ipywidgets as widgets\n",
    "\n",
    "def query(btn):\n",
    "    product_id = product_id_widget.value\n",
    "    n_limit = n_limit_widget.value\n",
    "    recommendation_network = get_product_recommendation_network(product_id, n_limit)\n",
    "    # plot the network, and show the edge weights\n",
    "    plt.figure(figsize=(5, 5))\n",
    "    pos = nx.spring_layout(recommendation_network)\n",
    "    nx.draw(recommendation_network, pos=pos, with_labels=True)\n",
    "    edge_labels = nx.get_edge_attributes(recommendation_network, 'weight')\n",
    "    nx.draw_networkx_edge_labels(recommendation_network, pos=pos, edge_labels=edge_labels)\n",
    "    plt.show()\n",
    "\n",
    "\n",
    "# Get nodes from B that are partite == 1 (products)\n",
    "product_nodes = [n for n, d in B.nodes(data=True) if d['bipartite'] == 'products'][:1000]\n",
    "\n",
    "product_id_widget = widgets.Dropdown(\n",
    "    options=product_nodes,\n",
    "    value=product_nodes[0],\n",
    "    description='Product ID:',\n",
    "    disabled=False,\n",
    ")\n",
    "n_limit_widget = widgets.Dropdown(\n",
    "    options=list(range(1,11)),\n",
    "    value=5,\n",
    "    description='N recommendations:',\n",
    "    disabled=False,\n",
    ")\n",
    "\n",
    "button = widgets.Button(\n",
    "    description='Consultar',\n",
    "    disabled=False,\n",
    "    button_style='', # 'success', 'info', 'warning', 'danger' or ''\n",
    "    tooltip='Click me',\n",
    "    icon='check' # (FontAwesome names without the `fa-` prefix)\n",
    ")\n",
    "\n",
    "button.on_click(query)\n",
    "\n",
    "product_id_widget\n",
    "n_limit_widget\n",
    "button\n"
   ]
  }
 ],
 "metadata": {
  "kernelspec": {
   "display_name": ".venv",
   "language": "python",
   "name": "python3"
  },
  "language_info": {
   "codemirror_mode": {
    "name": "ipython",
    "version": 3
   },
   "file_extension": ".py",
   "mimetype": "text/x-python",
   "name": "python",
   "nbconvert_exporter": "python",
   "pygments_lexer": "ipython3",
   "version": "3.11.2"
  }
 },
 "nbformat": 4,
 "nbformat_minor": 2
}
