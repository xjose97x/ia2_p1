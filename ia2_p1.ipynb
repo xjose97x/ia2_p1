{
 "cells": [
  {
   "cell_type": "markdown",
   "metadata": {},
   "source": [
    "# Inteligencia Artificial 2\n",
    "## P1 Project: Implement a Recommender system using a bipartite network projection\n",
    "### Autores: Miguel Brito, Diana Cuenca, José Escudero, Danny Huacon, Steveen Terán"
   ]
  },
  {
   "cell_type": "markdown",
   "metadata": {},
   "source": [
    "En el presente informe, se abordará la implementación de un sistema de recomendación con el uso de una red bipartita. Esta es una técnica que permite analizar relaciones complejas entre dos conjuntos de elementos. Por ello, se analizará y proyectara una red de productos en funcion de las recomendaciones emitidas por los usuarios. Lo que permitirá identificar patrones y conexiones significativas entre los productos, lo que facilitará la generación de recomendaciones personalizadas."
   ]
  },
  {
   "cell_type": "markdown",
   "metadata": {},
   "source": [
    "## Importar y analizar datos\n",
    "#### 1. Importar librerías"
   ]
  },
  {
   "cell_type": "code",
   "execution_count": null,
   "metadata": {},
   "outputs": [],
   "source": [
    "# Importaciones básicas\n",
    "\n",
    "import numpy as np\n",
    "import pandas as pd\n"
   ]
  },
  {
   "cell_type": "markdown",
   "metadata": {},
   "source": [
    "Se hace uso de **ast_node_interactivity** con el fin de inspeccionar todos los resultados que llegue a generar una celda, y no solo el último resultado. Por ello, se configura el notebook con la expresión _\"all\"_"
   ]
  },
  {
   "cell_type": "code",
   "execution_count": null,
   "metadata": {},
   "outputs": [],
   "source": [
    "# Configuración específica de Jupyter Notebook\n",
    "\n",
    "from IPython.core.interactiveshell import InteractiveShell\n",
    "InteractiveShell.ast_node_interactivity = \"all\"\n"
   ]
  },
  {
   "cell_type": "code",
   "execution_count": null,
   "metadata": {},
   "outputs": [],
   "source": [
    "# Librerias de visualización de datos\n",
    "import matplotlib.pyplot as plt\n",
    "import seaborn as sns\n"
   ]
  },
  {
   "cell_type": "markdown",
   "metadata": {},
   "source": [
    "#### 2. Importar datos"
   ]
  },
  {
   "cell_type": "markdown",
   "metadata": {},
   "source": [
    "Se lee el archivo de los datos y se carga en un dataframe, asi también se especifica los nombres de las columnas, y se muestran las priumeras 5 filas. \n",
    "\n",
    "_Cabe aclarar que se eliminó la columna timestamp con el fin de reducir la dimensionalidad de los datos, además que no se vió la relevancia para el objetivo y posterior análisis de este informe._"
   ]
  },
  {
   "cell_type": "code",
   "execution_count": null,
   "metadata": {},
   "outputs": [],
   "source": [
    "# Cargar datos desde un archivo CSV y asignar nombres a las columnas\n",
    "electronics_data = pd.read_csv(\"./ratings_electronics.csv\", names=['userId', 'productId', 'Rating', 'timestamp'])\n",
    "\n",
    "# Eliminar la columna 'timestamp' de los datos\n",
    "electronics_data.drop(['timestamp'], axis=1,inplace=True)\n",
    "\n",
    "# Mostrar las primeras filas del DataFrame\n",
    "electronics_data.head()\n"
   ]
  },
  {
   "cell_type": "markdown",
   "metadata": {},
   "source": [
    "#### 3. Analizar rango de ratings y revisar integridad de datos"
   ]
  },
  {
   "cell_type": "markdown",
   "metadata": {},
   "source": [
    "Se realiza una comprensión inicial de la distribución de las calificaciones de los usuarios hacia los productos, con el fin de poder identificar posibles problemas en la integridad de los datos y corregir estos errores antes de la contrucción del modelo."
   ]
  },
  {
   "cell_type": "code",
   "execution_count": null,
   "metadata": {},
   "outputs": [],
   "source": [
    "# Encontrar las calificaciones mínima y máxima\n",
    "\n",
    "print('Minimum rating is: %d' %(electronics_data.Rating.min()))\n",
    "print('Maximum rating is: %d' %(electronics_data.Rating.max()))\n",
    "print(\"=====================================================================================================\")\n",
    "print('Number of missing values across columns: \\n',electronics_data.isnull().sum())\n"
   ]
  },
  {
   "cell_type": "markdown",
   "metadata": {},
   "source": [
    "#### 4. Graficar distribución de ratings"
   ]
  },
  {
   "cell_type": "markdown",
   "metadata": {},
   "source": [
    "Se crea un diccionario que cuenta la frecuencia de cada valor único del **Rating**. Esto se muestra en un gráfico de barras para visualizar la naturaleza de los datos, en este caso, la distribución de las calificaciones de los usuarios."
   ]
  },
  {
   "cell_type": "code",
   "execution_count": null,
   "metadata": {},
   "outputs": [],
   "source": [
    "# Create a dictionary in which the key is the rating, and the value is the number of times that rating occurs\n",
    "rating_distribution = electronics_data.groupby(['Rating'])['Rating'].agg(['count'])\n",
    "\n",
    "# Check the distribution of the rating\n",
    "sns.barplot(x=rating_distribution.index, y=rating_distribution['count'])\n"
   ]
  },
  {
   "cell_type": "markdown",
   "metadata": {},
   "source": [
    "#### 5. Imprimir cantidad de ratings, usuarios unicos y productos unicos"
   ]
  },
  {
   "cell_type": "markdown",
   "metadata": {},
   "source": [
    "Se imprime la cantidad total de calificaciones, la cantidad de usuarios únicos y la cantidad de productos únicso en el conjunto de datos **electronics_data**. Con ello, podemos obtener información clave sobre la magnitud y diversidad de los usuarios y los productos recomendados."
   ]
  },
  {
   "cell_type": "code",
   "execution_count": null,
   "metadata": {},
   "outputs": [],
   "source": [
    "print(\"Total no of ratings :\",electronics_data.shape[0])\n",
    "print(\"Total No of Users   :\", len(np.unique(electronics_data.userId)))\n",
    "print(\"Total No of products  :\", len(np.unique(electronics_data.productId)))\n"
   ]
  },
  {
   "cell_type": "markdown",
   "metadata": {},
   "source": [
    "## Desarrollo del Modelo"
   ]
  },
  {
   "cell_type": "markdown",
   "metadata": {},
   "source": [
    "#### 1. Generar Red Bipartita\n",
    "\n",
    "Para el presente sistema de recomebntación, es necesaria la generación de una red bipartita que capture las relaciones entre los usuarios y los productos.\n",
    "\n",
    "En versiones anteriores de NetworkX, la creación de esta red se realizaba utilizando el método **`from_pandas_dataframe`**. Sin embargo, con el avance de las versiones y la evolución de la biblioteca, este método ha sido marcado como obsoleto, y se recomienda el uso de **`from_pandas_edgelist`** como la alternativa actualizada y preferida.\n",
    "\n",
    "_Fuente: `https://stackoverflow.com/a/49580740`_"
   ]
  },
  {
   "cell_type": "markdown",
   "metadata": {},
   "source": [
    "Se utiliza la librería **networkx**, para la creación, manipulación y estudio de estructuras, funciones y dinámicas de redes complejas. De esta se utilizan las siguientes herrameintas para el modelo de recomentacion y la construcción de la red bipartita:\n",
    "\n",
    "- **bipartite** : utilizada para trabajar una red bipartita, con lo que podemos manipular los grafos asi como tener funciones y algoritmos para realizar operaciones o proyecciones en dicha red.\n",
    "\n",
    "- **itemgetter** : utilizada para extraer elementos específicos de una secuencia. En este caso, para seleccionar nodos según criterios configurables."
   ]
  },
  {
   "cell_type": "code",
   "execution_count": null,
   "metadata": {},
   "outputs": [],
   "source": [
    "# Modelado de la red bipartita\n",
    "\n",
    "import networkx as nx\n",
    "from networkx.algorithms import bipartite\n",
    "from operator import itemgetter\n"
   ]
  },
  {
   "cell_type": "markdown",
   "metadata": {},
   "source": [
    "A continuación, se crea un nuevo dataframe con el fin de almacenar los productos que contienen calificación de 5 estrellas unicamente, luego se crea i grafo, donde los nodos son los usuarios y los productos, asi como los bordes representan las interacciones entre usuarios y productos con calificación de 5 estrellas.\n",
    "\n",
    "Para finalizar, se aginan etiquetas a cada dato recopilado en el grafo y se comprueba si es un grafo bipartito con **`is_bipartite`**."
   ]
  },
  {
   "cell_type": "code",
   "execution_count": null,
   "metadata": {},
   "outputs": [],
   "source": [
    "# Filtrar las revisiones con 5 estrellas\n",
    "five_star_reviews = electronics_data[electronics_data['Rating'] == 5]\n",
    "\n",
    "# Crear el grafo bipartito\n",
    "B = nx.from_pandas_edgelist(five_star_reviews, 'userId', 'productId', edge_attr=None, create_using=None)\n",
    "\n",
    "# Assign label to nodes\n",
    "unique_user_ids = set(electronics_data['userId'])\n",
    "for node in B.nodes():\n",
    "    if node in unique_user_ids:\n",
    "        B.nodes[node]['bipartite'] = 'users'\n",
    "    else:\n",
    "        B.nodes[node]['bipartite'] = 'products'\n",
    "\n",
    "# Confirmar que es bipartito\n",
    "bipartite.is_bipartite(B)\n"
   ]
  },
  {
   "cell_type": "markdown",
   "metadata": {},
   "source": [
    "#### 2. Ejemplo de sistema de recomendacion con datos de la red bipartita. \n",
    "\n",
    "    a. En este bloque, se presenta un ejemplo concreto de cómo implementar un sistema de recomendación basado en una red bipartita. El enfoque adoptado consiste en seleccionar un usuario específico y obtener recomendaciones de productos basándose en la actividad de otros usuarios que han revisado productos similares."
   ]
  },
  {
   "cell_type": "markdown",
   "metadata": {},
   "source": [
    "Se inicia seleccionando un usuario del conjunto de datos, para luego identificar los revisados por dicho usuario. Así, se buscan los usuarios que han revisado los mismos productos que el usuario en cuestión. Esta información forma la base para generar recomendaciones de productos para el usuario seleccionado."
   ]
  },
  {
   "cell_type": "code",
   "execution_count": null,
   "metadata": {},
   "outputs": [],
   "source": [
    "# Combinación Listas\n",
    "from itertools import chain\n",
    "\n",
    "# Obtener un usuario del dataframe\n",
    "user_node = five_star_reviews.iloc[0]['userId']\n",
    "\n",
    "# Obtener los productos que ha revisado este usuario\n",
    "products_reviewed_by_user = B.neighbors(user_node)\n",
    "\n",
    "# Obtener los usuarios que han hecho review de los mismos productos que el usuario en cuestión\n",
    "related_users = list(bipartite.weighted_projected_graph(B, [user_node]))\n",
    "\n",
    "# Obtener los productos que han sido revisados por los usuarios relacionados\n",
    "recommendations = chain.from_iterable([list(B.neighbors(node)) for node in related_users])\n",
    "\n",
    "# Eliminar los productos que ya ha revisado el usuario en cuestión\n",
    "recommendations = set(recommendations) - set(products_reviewed_by_user)\n",
    "\n",
    "recommendations\n"
   ]
  },
  {
   "cell_type": "markdown",
   "metadata": {},
   "source": [
    "\n",
    "    b. En este bloque se ordena los productos obtenidos en el bloque anterior, de acuerdo a la cantidad de usuarios que han revisado el producto, y se selecciona los 10 productos con mayor cantidad de usuarios que lo han revisado"
   ]
  },
  {
   "cell_type": "markdown",
   "metadata": {},
   "source": [
    "Se crea una lista de tuplas donde cada una contiene un producto y el número de usuarios que lo han revisado. Esta lista se ordena en base al conteno de recomentdaciones de manera descendente, y se seleccionan las 10 principales.Por último, se itera las mejores recomendaciones y se imprime el producto y la cantidad de usuarios que se interesaron por el producto."
   ]
  },
  {
   "cell_type": "code",
   "execution_count": null,
   "metadata": {},
   "outputs": [],
   "source": [
    "# Lista de tuplas con productos y su conteo de recomendaciones\n",
    "product_recommendation_counts = [(product, B.degree(product)) for product in recommendations]\n",
    "\n",
    "# Ordenar la lista por conteo de recomendaciones de manera descendente\n",
    "top_recommended_products = sorted(product_recommendation_counts, key=itemgetter(1), reverse=True)[:10]\n",
    "\n",
    "# Imprimir las principales recomendaciones\n",
    "for product, count in top_recommended_products:\n",
    "    print(f\"Producto: {product}, revisado por: {count} usuarios\")\n"
   ]
  },
  {
   "cell_type": "markdown",
   "metadata": {},
   "source": [
    "#### 3. Construcción de un Grafo Bipartito con un Subconjunto de Datos\n",
    "\n",
    "    a. En esta etapa del análisis, se procede a la creación de un grafo bipartito, tomando como punto de partida un subconjunto específico de datos compuesto por las primeras 100 revisiones con calificación de 5 estrellas."
   ]
  },
  {
   "cell_type": "markdown",
   "metadata": {},
   "source": [
    "\n",
    "Se selecciona las primeras 100 revisiones con calificación máxima, teniendo asi un conjunto representativo para la construcción del grafo. A partir de este, se construye un grafo bipartito donde los nodos representan usuarios y productos, y los bordes reflejan las interacciones entre ellos. Se asignan etiquetas para facilitar la interpretación del grafo. Y, por último, se verifica que el grafo tenga una estructura bipartita."
   ]
  },
  {
   "cell_type": "code",
   "execution_count": null,
   "metadata": {},
   "outputs": [],
   "source": [
    "# Visualizar una parte del gráfico\n",
    "subset_data = five_star_reviews.head(100)\n",
    "\n",
    "# Crear un grafo bipartito basado en un subconjunto de datos\n",
    "B_sub = nx.from_pandas_edgelist(subset_data, 'userId', 'productId', edge_attr=None, create_using=None)\n",
    "\n",
    "# Asignar etiquetas a los nodos\n",
    "unique_user_ids = set(electronics_data['userId'])\n",
    "for node in B_sub.nodes():\n",
    "    if node in unique_user_ids:\n",
    "        B_sub.nodes[node]['bipartite'] = 'users'\n",
    "    else:\n",
    "        B_sub.nodes[node]['bipartite'] = 'products'\n",
    "\n",
    "# Confirmar que es un grafo bipartito\n",
    "bipartite.is_bipartite(B)\n"
   ]
  },
  {
   "cell_type": "markdown",
   "metadata": {},
   "source": [
    "    b. En este bloque, se imprime y visualiza el grafo bipartito generado, con el fin de proporcionar una representación gráfica que permita entender la estructura de la red y las interacciones entre usuarios y productos."
   ]
  },
  {
   "cell_type": "markdown",
   "metadata": {},
   "source": [
    "Se utiliza **bipartite_layout** para calcular una disposición específica del grafo, se asignan colores para diferenciar usuarios y productos asi como leyendas. Por último, cabe destacar que este gráfico nos ayuda a tener una idea visual sobre las interacciones entre usuarios y productos."
   ]
  },
  {
   "cell_type": "code",
   "execution_count": null,
   "metadata": {},
   "outputs": [],
   "source": [
    "\n",
    "# Calcular la disposición específica para nodos\n",
    "pos = nx.bipartite_layout(B_sub, nodes=[n for n, d in B_sub.nodes(data=True) if d['bipartite'] == 'users'])\n",
    "\n",
    "# Asignar colores a los nodos según su bipartición (azul para usuarios, rojo para productos)\n",
    "colors = [\"blue\" if d['bipartite'] == 'users' else \"red\" for n, d in B_sub.nodes(data=True)]\n",
    "\n",
    "# Configurar el tamaño y la presentación del gráfico\n",
    "plt.figure(figsize=(12, 12))\n",
    "\n",
    "# Dibujar el grafo bipartito\n",
    "nx.draw(B_sub, pos=pos, node_color=colors, with_labels=False, node_size=20)\n",
    "\n",
    "# Crear leyenda - nodos de usuarios y productos\n",
    "blue_patch = plt.Line2D([0], [0], marker='o', color='w', label='Usuarios', markersize=10, markerfacecolor='blue')\n",
    "red_patch = plt.Line2D([0], [0], marker='o', color='w', label='Productos', markersize=10, markerfacecolor='red')\n",
    "plt.legend(handles=[blue_patch, red_patch])\n",
    "plt.title(\"Subconjunto de la Red Bipartita Usuario-Producto\")\n",
    "plt.show()\n"
   ]
  },
  {
   "cell_type": "markdown",
   "metadata": {},
   "source": [
    "#### 4. Poda de grafo bipartito e impresión del mismo\n",
    "\n",
    "    a. En esta etapa, se realiza una poda selectiva del grafo bipartito con el fin de obtener los usuarios que hayan hecho más de 250 reviews."
   ]
  },
  {
   "cell_type": "markdown",
   "metadata": {},
   "source": [
    "Primero, se empieza podando todos aquellos usuarios que posean un umbral inferior a 250 y se contruye un subgrafo a partir de dicha poda. A continuación y a partir del subgrafo, excluimos todos aquellos productos que no posean niguna recomendación y nuevamente se construye un subgrafo. Contamos el número de usuario y productos del grafo con poda selectiva."
   ]
  },
  {
   "cell_type": "code",
   "execution_count": null,
   "metadata": {},
   "outputs": [],
   "source": [
    "# Definir umbral de grado para usuarios\n",
    "degree_threshold = 250\n",
    "\n",
    "# Identificar usuarios con grado inferior al umbral\n",
    "users_nodes_to_remove = [node for node, data in B.nodes(data=True) if data['bipartite'] == 'users' and B.degree(node) < degree_threshold]\n",
    "\n",
    "# Crear un subgrafo excluyendo los usuarios identificados\n",
    "trimmed_B = B.subgraph(set(B.nodes) - set(users_nodes_to_remove))\n",
    "\n",
    "# Identificar productos sin conexiones con usuarios\n",
    "orphan_products_nodes = [node for node, data in trimmed_B.nodes(data=True) if data['bipartite'] == 'products' and trimmed_B.degree(node) == 0]\n",
    "\n",
    "# Crear un subgrafo excluyendo los productos huérfanos\n",
    "trimmed_B = trimmed_B.subgraph(set(trimmed_B.nodes) - set(orphan_products_nodes))\n",
    "\n",
    "# Contar el número de usuarios y productos\n",
    "users_count = len([node for node, data in trimmed_B.nodes(data=True) if data['bipartite'] == 'users'])\n",
    "products_count = len([node for node, data in trimmed_B.nodes(data=True) if data['bipartite'] == 'products'])\n",
    "\n",
    "print(f\"El grafo podado tiene {users_count} usuarios y {products_count} productos\")\n"
   ]
  },
  {
   "cell_type": "markdown",
   "metadata": {},
   "source": [
    "Visualización del grafo bipartito podado"
   ]
  },
  {
   "cell_type": "code",
   "execution_count": null,
   "metadata": {},
   "outputs": [],
   "source": [
    "# Dibujar el grafo bipartito podado\n",
    "pos = nx.bipartite_layout(trimmed_B, nodes=[n for n, d in trimmed_B.nodes(data=True) if d['bipartite'] == 'users'])\n",
    "colors = [\"blue\" if d['bipartite'] == 'users' else \"red\" for n, d in trimmed_B.nodes(data=True)]\n",
    "\n",
    "plt.figure(figsize=(12, 12))\n",
    "nx.draw(trimmed_B, pos=pos, node_color=colors, with_labels=False, node_size=20)\n",
    "\n",
    "# Crear leyenda para distinguir nodos de usuarios y productos\n",
    "blue_patch = plt.Line2D([0], [0], marker='o', color='w', label='Usuarios', markersize=10, markerfacecolor='blue')\n",
    "red_patch = plt.Line2D([0], [0], marker='o', color='w', label='Productos', markersize=10, markerfacecolor='red')\n",
    "plt.legend(handles=[blue_patch, red_patch])\n",
    "plt.title(\"Subconjunto del Grafo Bipartito Usuarios-Productos después de la Poda\")\n",
    "plt.show()\n"
   ]
  },
  {
   "cell_type": "markdown",
   "metadata": {},
   "source": [
    "    b. En esta etapa, se realiza una poda selectiva del grafo bipartito con el fin de obtener los productos que poseen más de 10000 reviews."
   ]
  },
  {
   "cell_type": "markdown",
   "metadata": {},
   "source": [
    "Primero, se empieza popdando todos los productos que posean un umbral inferior a 10000 y se contruye un subgrafo a partir de dicha poda. A continuación y a partir del subgrafo, excluimos todos aquellos usuarios que no tienen conexiones y se construye un nuevo subgrafo. Contamos el número de usuario y productos del grafo con poda selectiva."
   ]
  },
  {
   "cell_type": "code",
   "execution_count": null,
   "metadata": {},
   "outputs": [],
   "source": [
    "# Definición del umbral de grado para conservar nodos de productos\n",
    "degree_threshold = 10000\n",
    "\n",
    "# Identificación y eliminación de nodos de productos con grado inferior al umbral\n",
    "product_nodes_to_remove = [node for node, data in B.nodes(data=True) if data['bipartite'] == 'products' and B.degree(node) < degree_threshold]\n",
    "trimmed_B = B.subgraph(B.nodes - set(product_nodes_to_remove))\n",
    "\n",
    "# Identificación y eliminación de nodos de usuarios huérfanos en el grafo podado\n",
    "orphan_user_nodes = [node for node, data in trimmed_B.nodes(data=True) if data['bipartite'] == 'users' and trimmed_B.degree(node) == 0]\n",
    "trimmed_B = trimmed_B.subgraph(trimmed_B.nodes - set(orphan_user_nodes))\n",
    "\n",
    "# Conteo de usuarios y productos en el grafo podado\n",
    "users_count = len([node for node, data in trimmed_B.nodes(data=True) if data['bipartite'] == 'users'])\n",
    "products_count = len([node for node, data in trimmed_B.nodes(data=True) if data['bipartite'] == 'products'])\n",
    "\n",
    "print(f\"El grafo podado tiene {users_count} usuarios y {products_count} productos\")\n"
   ]
  },
  {
   "cell_type": "markdown",
   "metadata": {},
   "source": [
    "Visualización del grafo bipartito podado"
   ]
  },
  {
   "cell_type": "code",
   "execution_count": null,
   "metadata": {},
   "outputs": [],
   "source": [
    "# Dibujar el grafo\n",
    "pos = nx.bipartite_layout(trimmed_B, nodes=[n for n, d in trimmed_B.nodes(data=True) if d['bipartite'] == 'users'])\n",
    "colors = [\"blue\" if d['bipartite'] == 'users' else \"red\" for n, d in trimmed_B.nodes(data=True)]\n",
    "\n",
    "plt.figure(figsize=(12, 12))\n",
    "nx.draw(trimmed_B, pos=pos, node_color=colors, with_labels=False, node_size=20)\n",
    "blue_patch = plt.Line2D([0], [0], marker='o', color='w', label='Usuarios', markersize=10, markerfacecolor='blue')\n",
    "red_patch = plt.Line2D([0], [0], marker='o', color='w', label='Productos', markersize=10, markerfacecolor='red')\n",
    "plt.legend(handles=[blue_patch, red_patch])\n",
    "plt.title(\"Subconjunto del Grafo Bipartito Usuarios-Productos después de la poda\")\n",
    "plt.show()\n"
   ]
  },
  {
   "cell_type": "markdown",
   "metadata": {},
   "source": [
    "## Funcion de recomendaciones e interfaz"
   ]
  },
  {
   "cell_type": "markdown",
   "metadata": {},
   "source": [
    "Se crea una función que permite obtener un red de recomendaciones de productos a partir de un producto específico y un límite, identifica productos recomendados y construye un grafo ponderado en el que el producto original actúa como el nodo central, conectado a otros productos recomendados.\n",
    "\n",
    "Esta función proporciona una herramienta para explorar y comprender las conexiones de recomendación en una red bipartita, permitiendo a los usuarios identificar patrones y tomar decisiones informadas sobre productos relacionados. Con ella, podremos automatizar el procceso de recomendación."
   ]
  },
  {
   "cell_type": "code",
   "execution_count": null,
   "metadata": {},
   "outputs": [],
   "source": [
    "# Definir una función para obtener una red de recomendaciones de productos\n",
    "def get_product_recommendation_network(product, limit):\n",
    "  # Obtener productos recomendados\n",
    "  recommended_products = set(bipartite.weighted_projected_graph(B, [product])) - set([product])\n",
    "\n",
    "  # Crear una lista de tuplas con productos recomendados y sus pesos\n",
    "  recommended_products_with_weight = [(recommended_product, B.degree(recommended_product)) for recommended_product in recommended_products]\n",
    "\n",
    "  # Seleccionar las mejores recomendaciones según el peso y limitar el número de recomendaciones\n",
    "  top_recommendations = sorted(recommended_products_with_weight, key=lambda x: -x[1])[:limit]\n",
    "\n",
    "  # Crear un grafo de networkX donde el producto original es el nodo central y los productos recomendados son los nodos vecinos\n",
    "  # Utilizar bordes ponderados para indicar cuántos usuarios han comprado ambos productos.\n",
    "  G = nx.Graph()\n",
    "  G.add_node(product)  # Agregar el nodo del producto original\n",
    "  for recommended_product, weight in top_recommendations:\n",
    "    G.add_node(recommended_product)  # Agregar nodos de productos recomendados\n",
    "    G.add_edge(product, recommended_product, weight=weight)  # Agregar bordes ponderados\n",
    "\n",
    "  return G\n"
   ]
  },
  {
   "cell_type": "markdown",
   "metadata": {},
   "source": [
    "Se hace uso de widgets de IPython para mostrar un campo dodne se puede seleccionar un producto específico, establecer un límite en el número de recomendaciones, y luego al hacer clic en el botón \"Consultar\", se muestra la representación visual de la red de recomendaciones.\n",
    "\n",
    "De este modo, se puede tener una manera intruitica de explirar las conexiones de recomendacion de productos."
   ]
  },
  {
   "cell_type": "code",
   "execution_count": null,
   "metadata": {},
   "outputs": [],
   "source": [
    "import ipywidgets as widgets\n",
    "\n",
    "def query(btn):\n",
    "    product_id = product_id_widget.value\n",
    "    n_limit = n_limit_widget.value\n",
    "    recommendation_network = get_product_recommendation_network(product_id, n_limit)\n",
    "    # Dibujar la red y mostrar los pesos de los bordes\n",
    "    plt.figure(figsize=(5, 5))\n",
    "    pos = nx.spring_layout(recommendation_network)\n",
    "    nx.draw(recommendation_network, pos=pos, with_labels=True)\n",
    "    edge_labels = nx.get_edge_attributes(recommendation_network, 'weight')\n",
    "    nx.draw_networkx_edge_labels(recommendation_network, pos=pos, edge_labels=edge_labels)\n",
    "    plt.show()\n",
    "\n",
    "\n",
    "# Obtener nodos de B que sean partitos == 1 (productos)\n",
    "product_nodes = [n for n, d in B.nodes(data=True) if d['bipartite'] == 'products'][:1000]\n",
    "\n",
    "product_id_widget = widgets.Dropdown(\n",
    "    options=product_nodes,\n",
    "    value=product_nodes[0],\n",
    "    description='Product ID:',\n",
    "    disabled=False,\n",
    ")\n",
    "n_limit_widget = widgets.Dropdown(\n",
    "    options=list(range(1,11)),\n",
    "    value=5,\n",
    "    description='N recommendations:',\n",
    "    disabled=False,\n",
    ")\n",
    "\n",
    "button = widgets.Button(\n",
    "    description='Consultar',\n",
    "    disabled=False,\n",
    "    button_style='',\n",
    "    tooltip='Click me',\n",
    "    icon='check'\n",
    ")\n",
    "\n",
    "button.on_click(query)\n",
    "\n",
    "product_id_widget\n",
    "n_limit_widget\n",
    "button\n"
   ]
  },
  {
   "cell_type": "markdown",
   "metadata": {},
   "source": [
    "### Conlusiones\n",
    "\n",
    "- A través del uso de una red bipartita se puede demostrar que resulta se ejecuta para modelar las interacciones, en el caso del presente informe, entre usuarios y productos. Lo cual permite aumentar la calidad del sistema de recomendación a través del uso de técnicas como la proyección ponderada y considerar umbrales o grados de interación entre los productos y usuarios.\n",
    "\n",
    "- Así también, es importante destacar la optimizacón del modelo a través de una poda selectiva que demostró ser una estrategia correcta para mejorar la eficienica computacional sin compromenter la integridad de los datos."
   ]
  }
 ],
 "metadata": {
  "kernelspec": {
   "display_name": ".venv",
   "language": "python",
   "name": "python3"
  },
  "language_info": {
   "codemirror_mode": {
    "name": "ipython",
    "version": 3
   },
   "file_extension": ".py",
   "mimetype": "text/x-python",
   "name": "python",
   "nbconvert_exporter": "python",
   "pygments_lexer": "ipython3",
   "version": "3.11.2"
  }
 },
 "nbformat": 4,
 "nbformat_minor": 2
}
