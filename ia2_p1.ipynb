{
 "cells": [
  {
   "cell_type": "markdown",
   "metadata": {},
   "source": [
    "# Inteligencia Artificial 2\n",
    "## P1 Project: Implement a Recommender system using a bipartite network projection\n",
    "### Autores: Miguel Brito, Diana Cuenca, José Escudero, Danny Huacon, Steveen Terán"
   ]
  },
  {
   "cell_type": "markdown",
   "metadata": {},
   "source": [
    "## Importar y analizar datos\n",
    "1. Importar librerías"
   ]
  },
  {
   "cell_type": "code",
   "execution_count": null,
   "metadata": {},
   "outputs": [],
   "source": [
    "import numpy as np\n",
    "import pandas as pd\n",
    "import os\n",
    "from IPython.core.interactiveshell import InteractiveShell\n",
    "InteractiveShell.ast_node_interactivity = \"all\"\n",
    "import math\n",
    "import json\n",
    "import time\n",
    "import matplotlib.pyplot as plt\n",
    "import seaborn as sns\n",
    "from sklearn.metrics.pairwise import cosine_similarity\n",
    "from sklearn.model_selection import train_test_split\n",
    "from sklearn.neighbors import NearestNeighbors\n",
    "import joblib\n",
    "import scipy.sparse\n",
    "from scipy.sparse import csr_matrix\n",
    "from scipy.sparse.linalg import svds\n"
   ]
  },
  {
   "cell_type": "markdown",
   "metadata": {},
   "source": [
    "2. Importar datos"
   ]
  },
  {
   "cell_type": "code",
   "execution_count": null,
   "metadata": {},
   "outputs": [],
   "source": [
    "electronics_data = pd.read_csv(\"./ratings_electronics.csv\", names=['userId', 'productId', 'Rating', 'timestamp'])\n",
    "electronics_data.drop(['timestamp'], axis=1,inplace=True)\n",
    "electronics_data.head()\n"
   ]
  },
  {
   "cell_type": "markdown",
   "metadata": {},
   "source": [
    "3. Analizar rango de ratings y revisar integridad de datos"
   ]
  },
  {
   "cell_type": "code",
   "execution_count": null,
   "metadata": {},
   "outputs": [],
   "source": [
    "#Find the minimum and maximum ratings\n",
    "print('Minimum rating is: %d' %(electronics_data.Rating.min()))\n",
    "print('Maximum rating is: %d' %(electronics_data.Rating.max()))\n",
    "print(\"=====================================================================================================\")\n",
    "print('Number of missing values across columns: \\n',electronics_data.isnull().sum())\n"
   ]
  },
  {
   "cell_type": "markdown",
   "metadata": {},
   "source": [
    "4. Graficar distribucion de ratings"
   ]
  },
  {
   "cell_type": "code",
   "execution_count": null,
   "metadata": {},
   "outputs": [],
   "source": [
    "# Check the distribution of the rating\n",
    "\n",
    "# create a dictionary in which the key is the rating, and the value is the number of times that rating occurs\n",
    "rating_distribution = electronics_data.groupby(['Rating'])['Rating'].agg(['count'])\n",
    "sns.barplot(x=rating_distribution.index, y=rating_distribution['count'])\n"
   ]
  },
  {
   "cell_type": "markdown",
   "metadata": {},
   "source": [
    "5. Imprimir cantidad de ratings, usuarios unicos y productos unicos"
   ]
  },
  {
   "cell_type": "code",
   "execution_count": null,
   "metadata": {},
   "outputs": [],
   "source": [
    "print(\"Total no of ratings :\",electronics_data.shape[0])\n",
    "print(\"Total No of Users   :\", len(np.unique(electronics_data.userId)))\n",
    "print(\"Total No of products  :\", len(np.unique(electronics_data.productId)))\n"
   ]
  },
  {
   "cell_type": "markdown",
   "metadata": {},
   "source": [
    "## Desarrollo de taller"
   ]
  },
  {
   "cell_type": "markdown",
   "metadata": {},
   "source": [
    "1. Generar red bipartita"
   ]
  },
  {
   "cell_type": "code",
   "execution_count": null,
   "metadata": {},
   "outputs": [],
   "source": [
    "import networkx as nx\n",
    "from operator import itemgetter\n",
    "\n",
    "# Filtrar las revisiones con 5 estrellas\n",
    "five_star_reviews = electronics_data[electronics_data['Rating'] == 5]\n",
    "\n",
    "# Crear el grafo bipartito\n",
    "B = nx.Graph()\n",
    "\n",
    "user_nodes = set(five_star_reviews['userId'])\n",
    "product_nodes = set(five_star_reviews['productId'])\n",
    "B.add_nodes_from(user_nodes, bipartite=0, color='blue')\n",
    "B.add_nodes_from(product_nodes, bipartite=1, color='red')\n",
    "B.add_edges_from(zip(five_star_reviews['userId'], five_star_reviews['productId']))\n"
   ]
  },
  {
   "cell_type": "markdown",
   "metadata": {},
   "source": [
    "2.a Ejemplo de sistema de recomendacion con datos de la red bipartita. \\\n",
    "   En este bloque se selecciona un usuario, y se obtoene los productos revisados por otros usuarios que han revisado los mismos productos que el usuario en cuestión"
   ]
  },
  {
   "cell_type": "code",
   "execution_count": null,
   "metadata": {},
   "outputs": [],
   "source": [
    "# Supongamos que queremos las recomendaciones para un usuario en específico, p.ej., el primero en el dataset\n",
    "user_node = five_star_reviews.iloc[0]['userId']\n",
    "\n",
    "# Obtener los productos que ha revisado\n",
    "products_reviewed_by_user = B.neighbors(user_node)\n",
    "\n",
    "# Recomendaciones: Productos revisados por otros usuarios que han revisado los mismos productos que el usuario en cuestión\n",
    "recommendations = set()\n",
    "for product in products_reviewed_by_user:\n",
    "    users_that_rated_this_product = B.neighbors(product)\n",
    "    for user in users_that_rated_this_product:\n",
    "        other_product_rated = B.neighbors(user)\n",
    "        recommendations.update(other_product_rated)\n",
    "\n",
    "# Remover productos ya revisados por el usuario\n",
    "recommendations = recommendations - set(products_reviewed_by_user)\n",
    "\n",
    "recommendations\n"
   ]
  },
  {
   "cell_type": "markdown",
   "metadata": {},
   "source": [
    "2.b Ejemplo de sistema de recomendacion con datos de la red bipartita. \\\n",
    "   En este bloque se ordena los productos obtenidos en el bloque anterior, de acuerdo a la cantidad de usuarios que han revisado el producto, y se selecciona los 10 productos con mayor cantidad de usuarios que lo han revisado"
   ]
  },
  {
   "cell_type": "code",
   "execution_count": null,
   "metadata": {},
   "outputs": [],
   "source": [
    "# Si quieres obtener, digamos, las top 10 recomendaciones basadas en cuántos usuarios las han revisado:\n",
    "product_recommendation_counts = [(product, len([u for u in B.neighbors(product)])) for product in recommendations]\n",
    "top_recommendations = sorted(product_recommendation_counts, key=itemgetter(1), reverse=True)[:10]\n",
    "\n",
    "# Mostrar recomendaciones\n",
    "for product, count in top_recommendations:\n",
    "    print(f\"Producto: {product}, revisado por: {count} usuarios\")\n"
   ]
  },
  {
   "cell_type": "markdown",
   "metadata": {},
   "source": [
    "3.a Se crea un subconjunto de datos para construir un grafo bipartita para imprimir. \\\n",
    "    En este bloque se arma el grafo con un conjunto de 100 datos."
   ]
  },
  {
   "cell_type": "code",
   "execution_count": null,
   "metadata": {},
   "outputs": [],
   "source": [
    "# Si deseas visualizar una parte del gráfico:\n",
    "subset_data = five_star_reviews.head(100)\n",
    "B_sub = nx.Graph()\n",
    "\n",
    "B_sub.add_nodes_from(set(subset_data['userId']), bipartite=0, color='blue')\n",
    "B_sub.add_nodes_from(set(subset_data['productId']), bipartite=1, color='red')\n",
    "B_sub.add_edges_from(zip(subset_data['userId'], subset_data['productId']))\n"
   ]
  },
  {
   "cell_type": "markdown",
   "metadata": {},
   "source": [
    "3.b Se crea un subconjunto de datos para construir un grafo bipartita para imprimir. \\\n",
    "    En este bloque se imprimie el grafo bipartita generado en el bloque anterior."
   ]
  },
  {
   "cell_type": "code",
   "execution_count": null,
   "metadata": {},
   "outputs": [],
   "source": [
    "\n",
    "# Dibujar el grafo\n",
    "pos = nx.bipartite_layout(B_sub, nodes=[n for n, d in B_sub.nodes(data=True) if d['bipartite'] == 0])\n",
    "colors = [d['color'] for n, d in B_sub.nodes(data=True)]\n",
    "\n",
    "plt.figure(figsize=(12, 12))\n",
    "nx.draw(B_sub, pos=pos, node_color=colors, with_labels=False, node_size=20)\n",
    "blue_patch = plt.Line2D([0], [0], marker='o', color='w', label='Users', markersize=10, markerfacecolor='blue')\n",
    "red_patch = plt.Line2D([0], [0], marker='o', color='w', label='Products', markersize=10, markerfacecolor='red')\n",
    "plt.legend(handles=[blue_patch, red_patch])\n",
    "plt.title(\"Subset of Bipartite User-Product Network\")\n",
    "plt.show()\n"
   ]
  },
  {
   "cell_type": "markdown",
   "metadata": {},
   "source": [
    "4. Poda de grafo bipartito e impresión del mismo\n"
   ]
  },
  {
   "cell_type": "code",
   "execution_count": null,
   "metadata": {},
   "outputs": [],
   "source": [
    "# 1. Podar por Grado (todos los nodos):\n",
    "degree_threshold = 5  # por ejemplo, solo conservar nodos con grado > 5\n",
    "to_remove = [node for node, degree in dict(B.degree()).items() if degree < degree_threshold]\n",
    "\n",
    "trimmed_B = B.subgraph(B.nodes - set(to_remove))\n",
    "\n",
    "# 2. Podar por Tipo de Nodo (por ejemplo, solo conservar productos calificados por más de 10 usuarios)\n",
    "product_degree_threshold = 10\n",
    "products_to_remove = [node for node, degree in trimmed_B.degree() if node in trimmed_B.nodes and trimmed_B.nodes[node]['bipartite'] == 1 and degree < product_degree_threshold]\n",
    "trimmed_B = trimmed_B.subgraph(trimmed_B.nodes - set(products_to_remove))\n",
    "\n",
    "# Si deseas visualizar una parte del gráfico después de la poda:\n",
    "subset_nodes = list(trimmed_B.nodes)[:4000]  # Tomando un subconjunto de nodos para la visualización\n",
    "B_sub = trimmed_B.subgraph(subset_nodes)\n",
    "\n",
    "# Dibujar el grafo\n",
    "pos = nx.bipartite_layout(B_sub, nodes=[n for n, d in B_sub.nodes(data=True) if d['bipartite'] == 0])\n",
    "colors = [d['color'] for n, d in B_sub.nodes(data=True)]\n",
    "\n",
    "plt.figure(figsize=(12, 12))\n",
    "nx.draw(B_sub, pos=pos, node_color=colors, with_labels=False, node_size=20)\n",
    "blue_patch = plt.Line2D([0], [0], marker='o', color='w', label='Usuarios', markersize=10, markerfacecolor='blue')\n",
    "red_patch = plt.Line2D([0], [0], marker='o', color='w', label='Productos', markersize=10, markerfacecolor='red')\n",
    "plt.legend(handles=[blue_patch, red_patch])\n",
    "plt.title(\"Subconjunto del Grafo Bipartito Usuarios-Productos después de la poda\")\n",
    "plt.show()\n"
   ]
  },
  {
   "cell_type": "markdown",
   "metadata": {},
   "source": [
    "## Funcion de recomendaciones e interfaz"
   ]
  },
  {
   "cell_type": "code",
   "execution_count": null,
   "metadata": {},
   "outputs": [],
   "source": [
    "def get_product_recommendation_network(product, limit):\n",
    "  users = list(B.neighbors(product)) # lista de usuarios que han comprado el producto\n",
    "\n",
    "  weighted_recommendations = {}\n",
    "\n",
    "  for user in users:\n",
    "    recommended_products = list(B.neighbors(user))\n",
    "    for recommended_product in recommended_products:\n",
    "      if recommended_product not in weighted_recommendations:\n",
    "        weighted_recommendations[recommended_product] = 0\n",
    "      weighted_recommendations[recommended_product] += 1\n",
    "\n",
    "  weighted_recommendations.pop(product)\n",
    "\n",
    "  weighted_recommendations = sorted(weighted_recommendations.items(), key=lambda x: x[1], reverse=True)\n",
    "  weighted_recommendations = dict(weighted_recommendations[:limit])\n",
    "\n",
    "  # create a networkX graph, in which the product is the center node, and the recommended products are the neighbors.\n",
    "  # use weighted edges to indicate how many users have bought both products\n",
    "\n",
    "  G = nx.Graph()\n",
    "  G.add_node(product)\n",
    "  for recommended_product, weight in weighted_recommendations.items():\n",
    "    G.add_node(recommended_product)\n",
    "    G.add_edge(product, recommended_product, weight=weight)\n",
    "\n",
    "  return G\n",
    "\n",
    "\n"
   ]
  },
  {
   "cell_type": "code",
   "execution_count": null,
   "metadata": {},
   "outputs": [],
   "source": [
    "import ipywidgets as widgets\n",
    "\n",
    "def query(btn):\n",
    "    product_id = product_id_widget.value\n",
    "    n_limit = n_limit_widget.value\n",
    "    recommendation_network = get_product_recommendation_network(product_id, n_limit)\n",
    "    # plot the network, and show the edge weights\n",
    "    plt.figure(figsize=(5, 5))\n",
    "    pos = nx.spring_layout(recommendation_network)\n",
    "    nx.draw(recommendation_network, pos=pos, with_labels=True)\n",
    "    edge_labels = nx.get_edge_attributes(recommendation_network, 'weight')\n",
    "    nx.draw_networkx_edge_labels(recommendation_network, pos=pos, edge_labels=edge_labels)\n",
    "    plt.show()\n",
    "\n",
    "\n",
    "# Get nodes from B that are partite == 1 (products)\n",
    "product_nodes = [n for n, d in B.nodes(data=True) if d['bipartite'] == 1][:1000]\n",
    "\n",
    "product_id_widget = widgets.Dropdown(\n",
    "    options=product_nodes,\n",
    "    value='B002N5WAM6',\n",
    "    description='Product ID:',\n",
    "    disabled=False,\n",
    ")\n",
    "n_limit_widget = widgets.Dropdown(\n",
    "    options=list(range(1,11)),\n",
    "    value=5,\n",
    "    description='N recommendations:',\n",
    "    disabled=False,\n",
    ")\n",
    "\n",
    "button = widgets.Button(\n",
    "    description='Consultar',\n",
    "    disabled=False,\n",
    "    button_style='', # 'success', 'info', 'warning', 'danger' or ''\n",
    "    tooltip='Click me',\n",
    "    icon='check' # (FontAwesome names without the `fa-` prefix)\n",
    ")\n",
    "\n",
    "button.on_click(query)\n",
    "\n",
    "product_id_widget\n",
    "n_limit_widget\n",
    "button\n"
   ]
  }
 ],
 "metadata": {
  "kernelspec": {
   "display_name": ".venv",
   "language": "python",
   "name": "python3"
  },
  "language_info": {
   "codemirror_mode": {
    "name": "ipython",
    "version": 3
   },
   "file_extension": ".py",
   "mimetype": "text/x-python",
   "name": "python",
   "nbconvert_exporter": "python",
   "pygments_lexer": "ipython3",
   "version": "3.11.2"
  }
 },
 "nbformat": 4,
 "nbformat_minor": 2
}
