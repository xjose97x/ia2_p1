{
 "cells": [
  {
   "cell_type": "markdown",
   "metadata": {},
   "source": [
    "# Inteligencia Artificial 2\n",
    "## P1 Project: Implement a Recommender system using a bipartite network projection\n",
    "### Autores: Miguel Brito, Diana Cuenca, José Escudero, Danny Huacon, Steveen Terán"
   ]
  },
  {
   "cell_type": "markdown",
   "metadata": {},
   "source": [
    "En el presente informe, se abordará la implementación de un sistema de recomendación con el uso de una red bipartita. Esta es una técnica que permite analizar relaciones complejas entre dos conjuntos de elementos. Por ello, se analizará y proyectara una red de productos en funcion de las recomendaciones emitidas por los usuarios. Lo que permitirá identificar patrones y conexiones significativas entre los productos, lo que facilitará la generación de recomendaciones personalizadas."
   ]
  },
  {
   "cell_type": "markdown",
   "metadata": {},
   "source": [
    "### imports"
   ]
  },
  {
   "cell_type": "code",
   "execution_count": null,
   "metadata": {},
   "outputs": [],
   "source": [
    "import pandas as pd\n",
    "import numpy as np\n",
    "import matplotlib.pyplot as plt\n",
    "import seaborn as sns\n",
    "import networkx as nx\n",
    "from networkx.algorithms import bipartite\n",
    "import pickle\n",
    "import math\n",
    "\n"
   ]
  },
  {
   "cell_type": "markdown",
   "metadata": {},
   "source": [
    "### Load five stars review data\n",
    "\n",
    "Se lee el archivo de los datos y se carga en un dataframe, asi también se especifica los nombres de las columnas, y se muestran las priumeras 5 filas. \n",
    "\n",
    "_Cabe aclarar que se eliminó la columna timestamp con el fin de reducir la dimensionalidad de los datos, además que no se vió la relevancia para el objetivo y posterior análisis de este informe._"
   ]
  },
  {
   "cell_type": "code",
   "execution_count": null,
   "metadata": {},
   "outputs": [],
   "source": [
    "electronics_data = pd.read_csv(\"./ratings_electronics.csv\", names=['userId', 'productId', 'rating', 'timestamp'])\n",
    "# Eliminar la columna 'timestamp' de los datos\n",
    "electronics_data.drop(['timestamp'], axis=1,inplace=True)\n",
    "five_star_reviews = electronics_data[electronics_data['rating'] == 5.0]\n",
    "five_star_reviews.head()\n"
   ]
  },
  {
   "cell_type": "markdown",
   "metadata": {},
   "source": [
    "### Create bipartite graph"
   ]
  },
  {
   "cell_type": "code",
   "execution_count": null,
   "metadata": {},
   "outputs": [],
   "source": [
    "user_ids = set(five_star_reviews['userId'])\n",
    "product_ids = set(five_star_reviews['productId'])\n",
    "\n",
    "# Crear el grafo bipartito\n",
    "B = nx.from_pandas_edgelist(five_star_reviews, 'userId', 'productId', edge_attr=None, create_using=None)\n",
    "\n",
    "# Assign label to nodes\n",
    "for node in B.nodes():\n",
    "    if node in user_ids:\n",
    "        B.nodes[node]['bipartite'] = 'users'\n",
    "    else:\n",
    "        B.nodes[node]['bipartite'] = 'products'\n"
   ]
  },
  {
   "cell_type": "markdown",
   "metadata": {},
   "source": [
    "### Create product projection\n",
    "\n",
    "On my machine (M1 Pro, 32GB) it takes around 5 mins to run.\\\n",
    "If you want to save your time then just read the projection from the pickle file."
   ]
  },
  {
   "cell_type": "code",
   "execution_count": null,
   "metadata": {},
   "outputs": [],
   "source": [
    "import os\n",
    "file_exists = os.path.isfile('product_projection.pickle')\n",
    "if file_exists:\n",
    "  with open('product_projection.pickle', 'rb') as handle:\n",
    "    product_projection = pickle.load(handle)\n",
    "else:\n",
    "  product_projection = nx.bipartite.weighted_projected_graph(B, product_ids)\n",
    "  with open('product_projection.pickle', 'wb') as handle:\n",
    "    pickle.dump(product_projection, handle, protocol=pickle.HIGHEST_PROTOCOL)\n"
   ]
  },
  {
   "cell_type": "markdown",
   "metadata": {},
   "source": [
    "### Relevant functions for obtaining neighbor weights"
   ]
  },
  {
   "cell_type": "code",
   "execution_count": null,
   "metadata": {},
   "outputs": [],
   "source": [
    "def get_sorted_neighbors_by_weight(graph, node):\n",
    "    neighbors = graph.neighbors(node)\n",
    "    neighbors_with_weight = [(neighbor, graph[node][neighbor]['weight']) for neighbor in neighbors]\n",
    "    neighbors_with_weight = sorted(neighbors_with_weight, key=lambda x: x[1], reverse=True)\n",
    "    return neighbors_with_weight\n",
    "\n",
    "def get_top_neighbors(graph, node, limit=10):\n",
    "    neighbors_with_weight = get_sorted_neighbors_by_weight(graph, node)\n",
    "    return dict(neighbors_with_weight[:limit])\n"
   ]
  },
  {
   "cell_type": "markdown",
   "metadata": {},
   "source": [
    "### Test with the products drawn on the homework description"
   ]
  },
  {
   "cell_type": "code",
   "execution_count": null,
   "metadata": {},
   "outputs": [],
   "source": [
    "print(\"B00ELRTZ5Y\")\n",
    "neighbor_weights = get_top_neighbors(product_projection, \"B00ELRTZ5Y\", 5)\n",
    "for neighbor, weight in neighbor_weights.items():\n",
    "    print(f\"Neighbor: {neighbor}, Weight: {weight}\")\n",
    "print(\"==========================================\")\n",
    "print(\"B004SD22PQ\")\n",
    "neighbor_weights = get_top_neighbors(product_projection, \"B004SD22PQ\", 5)\n",
    "for neighbor, weight in neighbor_weights.items():\n",
    "    print(f\"Neighbor: {neighbor}, Weight: {weight}\")\n",
    "print(\"==========================================\")\n",
    "print(\"B005Y586QQ\")\n",
    "neighbor_weights = get_top_neighbors(product_projection, \"B005Y586QQ\", 5)\n",
    "for neighbor, weight in neighbor_weights.items():\n",
    "    print(f\"Neighbor: {neighbor}, Weight: {weight}\")\n",
    "\n",
    "\n",
    "\n"
   ]
  },
  {
   "cell_type": "markdown",
   "metadata": {},
   "source": [
    "### Drawing functions"
   ]
  },
  {
   "cell_type": "code",
   "execution_count": null,
   "metadata": {},
   "outputs": [],
   "source": [
    "def obtain_positions(vector):\n",
    "    (x, y) = vector\n",
    "    magnitude = math.sqrt(x**2 + y**2)\n",
    "    unit_vector = (x / magnitude, y / magnitude)\n",
    "    desired_magnitude = 0.5 * magnitude\n",
    "    return (unit_vector[0] * desired_magnitude, unit_vector[1] * desired_magnitude)\n",
    "\n",
    "def get_edge_color(edge, top_neighbors):\n",
    "    return 'red' if edge[0] in top_neighbors or edge[1] in top_neighbors else 'black'\n",
    "\n",
    "\n",
    "def draw_recommendation_graph(selected_node, limit, highlight_limit):\n",
    "    sorted_neighbors = get_sorted_neighbors_by_weight(product_projection, selected_node)\n",
    "    top_neighbors = get_top_neighbors(product_projection, selected_node, highlight_limit).keys()\n",
    "\n",
    "    # Extract neighbors and widths from sorted_neighbors\n",
    "    neighbors, widths = map(list, zip(*sorted_neighbors[:limit]))\n",
    "\n",
    "    # Create subgraph nodes including the selected node and its neighbors\n",
    "    subgraph_nodes = [selected_node, *neighbors]\n",
    "\n",
    "    # Get positions for the graph visualization\n",
    "    star_graph = nx.star_graph(subgraph_nodes)\n",
    "    pos = nx.circular_layout(star_graph)\n",
    "    pos[selected_node] = [0.00001, 0.00001]\n",
    "    new_positions = {node: obtain_positions(vector) for node, vector in pos.items()}\n",
    "\n",
    "    # Set node colors, edge colors, and edge labels\n",
    "    node_colors = ['green' if node == selected_node else 'skyblue' for node in star_graph.nodes()]\n",
    "    edge_colors = [get_edge_color(edge, top_neighbors) for edge in star_graph.edges()]\n",
    "    edge_labels = {pair[0]: pair[1] for pair in sorted_neighbors[:limit]}\n",
    "\n",
    "    # Draw the graph\n",
    "    nx.draw(star_graph, pos=pos, with_labels=True, node_color=node_colors, width=widths, node_size=1000, edge_color=edge_colors)\n",
    "    nx.draw_networkx_labels(star_graph, new_positions, labels=edge_labels, bbox=dict(facecolor=\"white\"))\n",
    "\n",
    "\n",
    "\n"
   ]
  },
  {
   "cell_type": "markdown",
   "metadata": {},
   "source": [
    "### Draw the 3 examples"
   ]
  },
  {
   "cell_type": "code",
   "execution_count": null,
   "metadata": {},
   "outputs": [],
   "source": [
    "draw_recommendation_graph(\"B00ELRTZ5Y\", 10, 4)\n"
   ]
  },
  {
   "cell_type": "code",
   "execution_count": null,
   "metadata": {},
   "outputs": [],
   "source": [
    "draw_recommendation_graph(\"B004SD22PQ\", 10, 4)\n"
   ]
  },
  {
   "cell_type": "code",
   "execution_count": null,
   "metadata": {},
   "outputs": [],
   "source": [
    "draw_recommendation_graph(\"B005Y586QQ\", 10, 4)\n"
   ]
  },
  {
   "cell_type": "markdown",
   "metadata": {},
   "source": [
    "### Dropdown menu"
   ]
  },
  {
   "cell_type": "code",
   "execution_count": null,
   "metadata": {},
   "outputs": [],
   "source": [
    "import ipywidgets as widgets\n",
    "from IPython.core.interactiveshell import InteractiveShell\n",
    "InteractiveShell.ast_node_interactivity = \"all\"\n",
    "\n",
    "def query(btn):\n",
    "    # clear previous graph\n",
    "    plt.clf()\n",
    "    product_id = product_id_widget.value\n",
    "    n_limit = n_limit_widget.value\n",
    "    draw_recommendation_graph(product_id, 10, n_limit)\n",
    "\n",
    "product_nodes = list(product_ids)[:1000]\n",
    "\n",
    "\n",
    "product_id_widget = widgets.Dropdown(\n",
    "    options=product_nodes,\n",
    "    value=product_nodes[0],\n",
    "    description='Product ID:',\n",
    "    disabled=False,\n",
    ")\n",
    "n_limit_widget = widgets.Dropdown(\n",
    "    options=list(range(1,11)),\n",
    "    value=5,\n",
    "    description='N recommendations:',\n",
    "    disabled=False,\n",
    ")\n",
    "\n",
    "button = widgets.Button(\n",
    "    description='Consultar',\n",
    "    disabled=False,\n",
    "    button_style='',\n",
    "    tooltip='Click me',\n",
    "    icon='check'\n",
    ")\n",
    "\n",
    "button.on_click(query)\n",
    "\n",
    "product_id_widget\n",
    "n_limit_widget\n",
    "button\n"
   ]
  },
  {
   "cell_type": "markdown",
   "metadata": {},
   "source": [
    "### Conlusiones\n",
    "\n",
    "- A través del uso de una red bipartita se puede demostrar que resulta se ejecuta para modelar las interacciones, en el caso del presente informe, entre usuarios y productos. Lo cual permite aumentar la calidad del sistema de recomendación a través del uso de técnicas como la proyección ponderada y considerar umbrales o grados de interación entre los productos y usuarios.\n",
    "\n",
    "- Así también, es importante destacar la optimizacón del modelo a través de una poda selectiva que demostró ser una estrategia correcta para mejorar la eficienica computacional sin compromenter la integridad de los datos."
   ]
  }
 ],
 "metadata": {
  "kernelspec": {
   "display_name": ".venv",
   "language": "python",
   "name": "python3"
  },
  "language_info": {
   "codemirror_mode": {
    "name": "ipython",
    "version": 3
   },
   "file_extension": ".py",
   "mimetype": "text/x-python",
   "name": "python",
   "nbconvert_exporter": "python",
   "pygments_lexer": "ipython3",
   "version": "3.11.2"
  }
 },
 "nbformat": 4,
 "nbformat_minor": 2
}
